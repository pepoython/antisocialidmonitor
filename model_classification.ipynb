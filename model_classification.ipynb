{
 "cells": [
  {
   "cell_type": "markdown",
   "metadata": {},
   "source": [
    "Project Antisocialid - Classification with Traditional Machine Learning\n",
    "Fitri Andri Astuti\n",
    "fitri.andriastuti@gmail.com"
   ]
  },
  {
   "cell_type": "markdown",
   "metadata": {},
   "source": [
    "1.Import Library yang akan dibutuhkan"
   ]
  },
  {
   "cell_type": "code",
   "execution_count": 1,
   "metadata": {
    "pycharm": {
     "name": "#%%\n"
    }
   },
   "outputs": [],
   "source": [
    "import pandas as pd\n",
    "import matplotlib.pyplot as plt\n",
    "import warnings\n",
    "warnings.filterwarnings('ignore')  # \"error\", \"ignore\", \"always\", \"default\", \"module\" or \"once\"\n",
    "\n",
    "from sklearn.model_selection import train_test_split\n",
    "from sklearn.pipeline import Pipeline\n",
    "from sklearn.feature_extraction.text import CountVectorizer\n",
    "from sklearn.feature_extraction.text import TfidfTransformer\n",
    "from sklearn.naive_bayes import MultinomialNB\n",
    "import numpy as np\n",
    "from sklearn.metrics import accuracy_score\n",
    "from sklearn.metrics import classification_report, confusion_matrix\n",
    "\n",
    "from sklearn.ensemble import RandomForestClassifier\n",
    "from sklearn.feature_extraction.text import TfidfVectorizer"
   ]
  },
  {
   "cell_type": "markdown",
   "metadata": {},
   "source": [
    "2.Baca data excel dari proses labelling manual"
   ]
  },
  {
   "cell_type": "code",
   "execution_count": 38,
   "metadata": {
    "pycharm": {
     "name": "#%%\n"
    }
   },
   "outputs": [
    {
     "data": {
      "text/html": [
       "<div>\n",
       "<style scoped>\n",
       "    .dataframe tbody tr th:only-of-type {\n",
       "        vertical-align: middle;\n",
       "    }\n",
       "\n",
       "    .dataframe tbody tr th {\n",
       "        vertical-align: top;\n",
       "    }\n",
       "\n",
       "    .dataframe thead th {\n",
       "        text-align: right;\n",
       "    }\n",
       "</style>\n",
       "<table border=\"1\" class=\"dataframe\">\n",
       "  <thead>\n",
       "    <tr style=\"text-align: right;\">\n",
       "      <th></th>\n",
       "      <th>id</th>\n",
       "      <th>author_id</th>\n",
       "      <th>text</th>\n",
       "      <th>reply_count</th>\n",
       "      <th>like_count</th>\n",
       "      <th>created_at</th>\n",
       "      <th>lang</th>\n",
       "      <th>username</th>\n",
       "      <th>name</th>\n",
       "      <th>description</th>\n",
       "      <th>stage</th>\n",
       "      <th>idKeyword</th>\n",
       "      <th>keyword</th>\n",
       "      <th>idClass</th>\n",
       "      <th>classname</th>\n",
       "      <th>show</th>\n",
       "      <th>url_removing</th>\n",
       "      <th>stopword_removing</th>\n",
       "      <th>stemming</th>\n",
       "      <th>formalizing</th>\n",
       "    </tr>\n",
       "  </thead>\n",
       "  <tbody>\n",
       "    <tr>\n",
       "      <th>0</th>\n",
       "      <td>1383080190658498561</td>\n",
       "      <td>1345245185345605633</td>\n",
       "      <td>@Thinks_1st @AlawyAbbas1 @ViviTanxx @Peni_airn...</td>\n",
       "      <td>1</td>\n",
       "      <td>3</td>\n",
       "      <td>2021-04-16 15:29:48</td>\n",
       "      <td>in</td>\n",
       "      <td>MpussCatsie</td>\n",
       "      <td>💕🐈MPЦƧƧᄃΛƬƧIΣ💕🐈</td>\n",
       "      <td>Meong</td>\n",
       "      <td>data_acquisition</td>\n",
       "      <td>3</td>\n",
       "      <td>selalu benar</td>\n",
       "      <td>0</td>\n",
       "      <td>Non-Antisosial / Umum</td>\n",
       "      <td>NaN</td>\n",
       "      <td>st airningrum tshah baby pokoke selalu benar</td>\n",
       "      <td>st airningrum tshah baby pokoke selalu benar</td>\n",
       "      <td>st airningrum tshah baby pokoke selalu benar</td>\n",
       "      <td>st airningrum tshah baby pokoke selalu benar</td>\n",
       "    </tr>\n",
       "    <tr>\n",
       "      <th>1</th>\n",
       "      <td>1383079632270884867</td>\n",
       "      <td>3072791707</td>\n",
       "      <td>@cicitcicitcuitt feeling tidak selalu benar</td>\n",
       "      <td>0</td>\n",
       "      <td>0</td>\n",
       "      <td>2021-04-16 15:27:35</td>\n",
       "      <td>in</td>\n",
       "      <td>annafrozenn</td>\n",
       "      <td>nah.</td>\n",
       "      <td>gaada apa-apa kok🙂</td>\n",
       "      <td>data_acquisition</td>\n",
       "      <td>3</td>\n",
       "      <td>selalu benar</td>\n",
       "      <td>0</td>\n",
       "      <td>Non-Antisosial / Umum</td>\n",
       "      <td>NaN</td>\n",
       "      <td>feeling tidak selalu benar</td>\n",
       "      <td>feeling selalu benar</td>\n",
       "      <td>feeling selalu benar</td>\n",
       "      <td>feeling selalu benar</td>\n",
       "    </tr>\n",
       "    <tr>\n",
       "      <th>2</th>\n",
       "      <td>1383078754335948805</td>\n",
       "      <td>915814814</td>\n",
       "      <td>Benar benar selalu tiap pulang kerumah mikirny...</td>\n",
       "      <td>1</td>\n",
       "      <td>0</td>\n",
       "      <td>2021-04-16 15:24:06</td>\n",
       "      <td>in</td>\n",
       "      <td>AWHP25</td>\n",
       "      <td>awhp</td>\n",
       "      <td>NaN</td>\n",
       "      <td>data_acquisition</td>\n",
       "      <td>3</td>\n",
       "      <td>selalu benar</td>\n",
       "      <td>0</td>\n",
       "      <td>Non-Antisosial / Umum</td>\n",
       "      <td>NaN</td>\n",
       "      <td>benar benar selalu tiap pulang kerumah mikirny...</td>\n",
       "      <td>benar benar selalu tiap pulang kerumah mikirny...</td>\n",
       "      <td>benar benar selalu tiap pulang rumah mikirnya ...</td>\n",
       "      <td>benar benar selalu tiap pulang rumah mikirnya ...</td>\n",
       "    </tr>\n",
       "    <tr>\n",
       "      <th>3</th>\n",
       "      <td>1382036843634462720</td>\n",
       "      <td>1210359018318749697</td>\n",
       "      <td>Aku selalu marah, bukan karena mereka salah ta...</td>\n",
       "      <td>0</td>\n",
       "      <td>0</td>\n",
       "      <td>2021-04-13 18:23:55</td>\n",
       "      <td>in</td>\n",
       "      <td>Ferry94241272</td>\n",
       "      <td>arwest</td>\n",
       "      <td>😜😜😜</td>\n",
       "      <td>data_acquisition</td>\n",
       "      <td>3</td>\n",
       "      <td>selalu benar</td>\n",
       "      <td>0</td>\n",
       "      <td>Non-Antisosial / Umum</td>\n",
       "      <td>NaN</td>\n",
       "      <td>aku selalu marah bukan karena mereka salah tap...</td>\n",
       "      <td>aku selalu marah bukan salah karna memang mere...</td>\n",
       "      <td>aku selalu marah bukan salah karna memang mere...</td>\n",
       "      <td>aku selalu marah bukan salah karna memang mere...</td>\n",
       "    </tr>\n",
       "    <tr>\n",
       "      <th>4</th>\n",
       "      <td>1383063513908666370</td>\n",
       "      <td>1379089655287586817</td>\n",
       "      <td>@Irawantan4 @tempodotco Orang pintar itu selal...</td>\n",
       "      <td>1</td>\n",
       "      <td>6</td>\n",
       "      <td>2021-04-16 14:23:32</td>\n",
       "      <td>in</td>\n",
       "      <td>rssbrs_</td>\n",
       "      <td>.</td>\n",
       "      <td>I’m fine, thank you</td>\n",
       "      <td>data_acquisition</td>\n",
       "      <td>3</td>\n",
       "      <td>selalu benar</td>\n",
       "      <td>0</td>\n",
       "      <td>Non-Antisosial / Umum</td>\n",
       "      <td>NaN</td>\n",
       "      <td>orang pintar itu selalu mengkritik apa yg menu...</td>\n",
       "      <td>orang pintar selalu mengkritik apa yg nya bena...</td>\n",
       "      <td>orang pintar selalu kritik apa yg nya benar bu...</td>\n",
       "      <td>orang pintar selalu kritik apa yang nya benar ...</td>\n",
       "    </tr>\n",
       "  </tbody>\n",
       "</table>\n",
       "</div>"
      ],
      "text/plain": [
       "                    id            author_id  \\\n",
       "0  1383080190658498561  1345245185345605633   \n",
       "1  1383079632270884867           3072791707   \n",
       "2  1383078754335948805            915814814   \n",
       "3  1382036843634462720  1210359018318749697   \n",
       "4  1383063513908666370  1379089655287586817   \n",
       "\n",
       "                                                text  reply_count  like_count  \\\n",
       "0  @Thinks_1st @AlawyAbbas1 @ViviTanxx @Peni_airn...            1           3   \n",
       "1        @cicitcicitcuitt feeling tidak selalu benar            0           0   \n",
       "2  Benar benar selalu tiap pulang kerumah mikirny...            1           0   \n",
       "3  Aku selalu marah, bukan karena mereka salah ta...            0           0   \n",
       "4  @Irawantan4 @tempodotco Orang pintar itu selal...            1           6   \n",
       "\n",
       "           created_at lang       username             name  \\\n",
       "0 2021-04-16 15:29:48   in    MpussCatsie  💕🐈MPЦƧƧᄃΛƬƧIΣ💕🐈   \n",
       "1 2021-04-16 15:27:35   in    annafrozenn             nah.   \n",
       "2 2021-04-16 15:24:06   in         AWHP25             awhp   \n",
       "3 2021-04-13 18:23:55   in  Ferry94241272           arwest   \n",
       "4 2021-04-16 14:23:32   in        rssbrs_                .   \n",
       "\n",
       "           description             stage  idKeyword       keyword  idClass  \\\n",
       "0                Meong  data_acquisition          3  selalu benar        0   \n",
       "1   gaada apa-apa kok🙂  data_acquisition          3  selalu benar        0   \n",
       "2                  NaN  data_acquisition          3  selalu benar        0   \n",
       "3                  😜😜😜  data_acquisition          3  selalu benar        0   \n",
       "4  I’m fine, thank you  data_acquisition          3  selalu benar        0   \n",
       "\n",
       "               classname  show  \\\n",
       "0  Non-Antisosial / Umum   NaN   \n",
       "1  Non-Antisosial / Umum   NaN   \n",
       "2  Non-Antisosial / Umum   NaN   \n",
       "3  Non-Antisosial / Umum   NaN   \n",
       "4  Non-Antisosial / Umum   NaN   \n",
       "\n",
       "                                        url_removing  \\\n",
       "0       st airningrum tshah baby pokoke selalu benar   \n",
       "1                         feeling tidak selalu benar   \n",
       "2  benar benar selalu tiap pulang kerumah mikirny...   \n",
       "3  aku selalu marah bukan karena mereka salah tap...   \n",
       "4  orang pintar itu selalu mengkritik apa yg menu...   \n",
       "\n",
       "                                   stopword_removing  \\\n",
       "0       st airningrum tshah baby pokoke selalu benar   \n",
       "1                               feeling selalu benar   \n",
       "2  benar benar selalu tiap pulang kerumah mikirny...   \n",
       "3  aku selalu marah bukan salah karna memang mere...   \n",
       "4  orang pintar selalu mengkritik apa yg nya bena...   \n",
       "\n",
       "                                            stemming  \\\n",
       "0       st airningrum tshah baby pokoke selalu benar   \n",
       "1                               feeling selalu benar   \n",
       "2  benar benar selalu tiap pulang rumah mikirnya ...   \n",
       "3  aku selalu marah bukan salah karna memang mere...   \n",
       "4  orang pintar selalu kritik apa yg nya benar bu...   \n",
       "\n",
       "                                         formalizing  \n",
       "0       st airningrum tshah baby pokoke selalu benar  \n",
       "1                               feeling selalu benar  \n",
       "2  benar benar selalu tiap pulang rumah mikirnya ...  \n",
       "3  aku selalu marah bukan salah karna memang mere...  \n",
       "4  orang pintar selalu kritik apa yang nya benar ...  "
      ]
     },
     "execution_count": 38,
     "metadata": {},
     "output_type": "execute_result"
    }
   ],
   "source": [
    "df = pd.read_excel(\"tweet_train_two_class.xlsx\", sheet_name='tweet_train_two_class')\n",
    "df.head()"
   ]
  },
  {
   "cell_type": "markdown",
   "metadata": {},
   "source": [
    "3.Cek nama kolom, type data, dan isian data apakah terdapat null value atau tidak"
   ]
  },
  {
   "cell_type": "code",
   "execution_count": 39,
   "metadata": {
    "pycharm": {
     "name": "#%%\n"
    }
   },
   "outputs": [
    {
     "name": "stdout",
     "output_type": "stream",
     "text": [
      "<class 'pandas.core.frame.DataFrame'>\n",
      "RangeIndex: 1251 entries, 0 to 1250\n",
      "Data columns (total 20 columns):\n",
      " #   Column             Non-Null Count  Dtype         \n",
      "---  ------             --------------  -----         \n",
      " 0   id                 1251 non-null   int64         \n",
      " 1   author_id          1251 non-null   int64         \n",
      " 2   text               1251 non-null   object        \n",
      " 3   reply_count        1251 non-null   int64         \n",
      " 4   like_count         1251 non-null   int64         \n",
      " 5   created_at         1251 non-null   datetime64[ns]\n",
      " 6   lang               1251 non-null   object        \n",
      " 7   username           1199 non-null   object        \n",
      " 8   name               1198 non-null   object        \n",
      " 9   description        1066 non-null   object        \n",
      " 10  stage              1251 non-null   object        \n",
      " 11  idKeyword          1251 non-null   int64         \n",
      " 12  keyword            1251 non-null   object        \n",
      " 13  idClass            1251 non-null   int64         \n",
      " 14  classname          1242 non-null   object        \n",
      " 15  show               501 non-null    float64       \n",
      " 16  url_removing       1251 non-null   object        \n",
      " 17  stopword_removing  1251 non-null   object        \n",
      " 18  stemming           1251 non-null   object        \n",
      " 19  formalizing        1251 non-null   object        \n",
      "dtypes: datetime64[ns](1), float64(1), int64(6), object(12)\n",
      "memory usage: 195.6+ KB\n"
     ]
    }
   ],
   "source": [
    "df.info()"
   ]
  },
  {
   "cell_type": "markdown",
   "metadata": {},
   "source": [
    "4.Identifikasi classname yang unik"
   ]
  },
  {
   "cell_type": "code",
   "execution_count": 40,
   "metadata": {
    "pycharm": {
     "name": "#%%\n"
    }
   },
   "outputs": [
    {
     "data": {
      "text/plain": [
       "0    802\n",
       "1    449\n",
       "Name: idClass, dtype: int64"
      ]
     },
     "execution_count": 40,
     "metadata": {},
     "output_type": "execute_result"
    }
   ],
   "source": [
    "df['idClass'].value_counts()"
   ]
  },
  {
   "cell_type": "code",
   "execution_count": 41,
   "metadata": {
    "pycharm": {
     "name": "#%%\n"
    }
   },
   "outputs": [
    {
     "data": {
      "text/plain": [
       "0    802\n",
       "1    449\n",
       "Name: idClass, dtype: int64"
      ]
     },
     "execution_count": 41,
     "metadata": {},
     "output_type": "execute_result"
    }
   ],
   "source": [
    "df.idClass.value_counts()"
   ]
  },
  {
   "cell_type": "code",
   "execution_count": 42,
   "metadata": {
    "pycharm": {
     "name": "#%%\n"
    }
   },
   "outputs": [
    {
     "data": {
      "text/plain": [
       "<AxesSubplot:>"
      ]
     },
     "execution_count": 42,
     "metadata": {},
     "output_type": "execute_result"
    },
    {
     "data": {
      "image/png": "[encoded data removed]",
      "text/plain": [
       "<Figure size 432x288 with 1 Axes>"
      ]
     },
     "metadata": {
      "needs_background": "light"
     },
     "output_type": "display_data"
    }
   ],
   "source": [
    "df.idClass.value_counts().plot(kind='bar')"
   ]
  },
  {
   "cell_type": "code",
   "execution_count": 43,
   "metadata": {
    "pycharm": {
     "name": "#%%\n"
    }
   },
   "outputs": [],
   "source": [
    "df_timeseries=df.groupby([df['created_at'].dt.date,df['idClass']], as_index=False)['idClass'].count()\n",
    "# df_timeseries"
   ]
  },
  {
   "cell_type": "code",
   "execution_count": 44,
   "metadata": {
    "pycharm": {
     "name": "#%%\n"
    }
   },
   "outputs": [],
   "source": [
    "df_timeseries=df.groupby([df['created_at'].dt.date,df['idClass']])['idClass']"
   ]
  },
  {
   "cell_type": "code",
   "execution_count": 45,
   "metadata": {
    "pycharm": {
     "name": "#%%\n"
    }
   },
   "outputs": [],
   "source": [
    "df_classname = df.groupby([df['created_at'].dt.date,df['idClass']])['idClass'].count().reset_index(name=\"jumlah\")"
   ]
  },
  {
   "cell_type": "code",
   "execution_count": 46,
   "metadata": {
    "pycharm": {
     "name": "#%%\n"
    }
   },
   "outputs": [
    {
     "data": {
      "text/html": [
       "<div>\n",
       "<style scoped>\n",
       "    .dataframe tbody tr th:only-of-type {\n",
       "        vertical-align: middle;\n",
       "    }\n",
       "\n",
       "    .dataframe tbody tr th {\n",
       "        vertical-align: top;\n",
       "    }\n",
       "\n",
       "    .dataframe thead th {\n",
       "        text-align: right;\n",
       "    }\n",
       "</style>\n",
       "<table border=\"1\" class=\"dataframe\">\n",
       "  <thead>\n",
       "    <tr style=\"text-align: right;\">\n",
       "      <th></th>\n",
       "      <th>created_at</th>\n",
       "      <th>idClass</th>\n",
       "      <th>jumlah</th>\n",
       "    </tr>\n",
       "  </thead>\n",
       "  <tbody>\n",
       "    <tr>\n",
       "      <th>0</th>\n",
       "      <td>2021-04-10</td>\n",
       "      <td>0</td>\n",
       "      <td>222</td>\n",
       "    </tr>\n",
       "    <tr>\n",
       "      <th>1</th>\n",
       "      <td>2021-04-10</td>\n",
       "      <td>1</td>\n",
       "      <td>86</td>\n",
       "    </tr>\n",
       "    <tr>\n",
       "      <th>2</th>\n",
       "      <td>2021-04-11</td>\n",
       "      <td>0</td>\n",
       "      <td>48</td>\n",
       "    </tr>\n",
       "    <tr>\n",
       "      <th>3</th>\n",
       "      <td>2021-04-11</td>\n",
       "      <td>1</td>\n",
       "      <td>12</td>\n",
       "    </tr>\n",
       "    <tr>\n",
       "      <th>4</th>\n",
       "      <td>2021-04-12</td>\n",
       "      <td>0</td>\n",
       "      <td>41</td>\n",
       "    </tr>\n",
       "    <tr>\n",
       "      <th>5</th>\n",
       "      <td>2021-04-12</td>\n",
       "      <td>1</td>\n",
       "      <td>8</td>\n",
       "    </tr>\n",
       "    <tr>\n",
       "      <th>6</th>\n",
       "      <td>2021-04-13</td>\n",
       "      <td>0</td>\n",
       "      <td>47</td>\n",
       "    </tr>\n",
       "    <tr>\n",
       "      <th>7</th>\n",
       "      <td>2021-04-13</td>\n",
       "      <td>1</td>\n",
       "      <td>24</td>\n",
       "    </tr>\n",
       "    <tr>\n",
       "      <th>8</th>\n",
       "      <td>2021-04-14</td>\n",
       "      <td>0</td>\n",
       "      <td>78</td>\n",
       "    </tr>\n",
       "    <tr>\n",
       "      <th>9</th>\n",
       "      <td>2021-04-14</td>\n",
       "      <td>1</td>\n",
       "      <td>113</td>\n",
       "    </tr>\n",
       "    <tr>\n",
       "      <th>10</th>\n",
       "      <td>2021-04-15</td>\n",
       "      <td>0</td>\n",
       "      <td>58</td>\n",
       "    </tr>\n",
       "    <tr>\n",
       "      <th>11</th>\n",
       "      <td>2021-04-15</td>\n",
       "      <td>1</td>\n",
       "      <td>86</td>\n",
       "    </tr>\n",
       "    <tr>\n",
       "      <th>12</th>\n",
       "      <td>2021-04-16</td>\n",
       "      <td>0</td>\n",
       "      <td>274</td>\n",
       "    </tr>\n",
       "    <tr>\n",
       "      <th>13</th>\n",
       "      <td>2021-04-16</td>\n",
       "      <td>1</td>\n",
       "      <td>105</td>\n",
       "    </tr>\n",
       "    <tr>\n",
       "      <th>14</th>\n",
       "      <td>2021-04-17</td>\n",
       "      <td>0</td>\n",
       "      <td>34</td>\n",
       "    </tr>\n",
       "    <tr>\n",
       "      <th>15</th>\n",
       "      <td>2021-04-17</td>\n",
       "      <td>1</td>\n",
       "      <td>15</td>\n",
       "    </tr>\n",
       "  </tbody>\n",
       "</table>\n",
       "</div>"
      ],
      "text/plain": [
       "    created_at  idClass  jumlah\n",
       "0   2021-04-10        0     222\n",
       "1   2021-04-10        1      86\n",
       "2   2021-04-11        0      48\n",
       "3   2021-04-11        1      12\n",
       "4   2021-04-12        0      41\n",
       "5   2021-04-12        1       8\n",
       "6   2021-04-13        0      47\n",
       "7   2021-04-13        1      24\n",
       "8   2021-04-14        0      78\n",
       "9   2021-04-14        1     113\n",
       "10  2021-04-15        0      58\n",
       "11  2021-04-15        1      86\n",
       "12  2021-04-16        0     274\n",
       "13  2021-04-16        1     105\n",
       "14  2021-04-17        0      34\n",
       "15  2021-04-17        1      15"
      ]
     },
     "execution_count": 46,
     "metadata": {},
     "output_type": "execute_result"
    }
   ],
   "source": [
    "df_classname"
   ]
  },
  {
   "cell_type": "markdown",
   "metadata": {},
   "source": [
    "5.Mulai untuk proses klasifikasi"
   ]
  },
  {
   "cell_type": "code",
   "execution_count": 47,
   "metadata": {
    "pycharm": {
     "name": "#%%\n"
    }
   },
   "outputs": [],
   "source": [
    "data = df['formalizing']\n",
    "label = df['idClass']"
   ]
  },
  {
   "cell_type": "code",
   "execution_count": 48,
   "metadata": {
    "pycharm": {
     "name": "#%%\n"
    }
   },
   "outputs": [
    {
     "name": "stdout",
     "output_type": "stream",
     "text": [
      "Data training:\n",
      "250\n",
      "Data testing:\n",
      "1001\n"
     ]
    }
   ],
   "source": [
    "X_train, X_test, y_train, y_test = train_test_split(data, label, test_size=0.8,random_state=25)  # random urutan dan split ke data training dan test\n",
    "\n",
    "print(\"Data training:\")\n",
    "print(len(X_train))\n",
    "# print(Counter(y_train))\n",
    "\n",
    "print(\"Data testing:\")\n",
    "print(len(X_test))\n",
    "# print(Counter(y_test))"
   ]
  },
  {
   "cell_type": "markdown",
   "metadata": {},
   "source": [
    "6.Klasifikasi dengan Model Naïve Bayes"
   ]
  },
  {
   "cell_type": "code",
   "execution_count": 49,
   "metadata": {
    "pycharm": {
     "name": "#%%\n"
    }
   },
   "outputs": [
    {
     "name": "stdout",
     "output_type": "stream",
     "text": [
      "\n",
      " ===== Predict Naive Bayes\n",
      "Akurasi MultinomialNB: 0.7172827172827173\n",
      "0.7172827172827173\n",
      "\n",
      " ===== Predict Naive Bayes finished\n",
      "Naive Bayes: \n",
      "[[618  16]\n",
      " [267 100]]\n",
      "Naive Bayes: \n",
      "              precision    recall  f1-score   support\n",
      "\n",
      "           0       0.70      0.97      0.81       634\n",
      "           1       0.86      0.27      0.41       367\n",
      "\n",
      "    accuracy                           0.72      1001\n",
      "   macro avg       0.78      0.62      0.61      1001\n",
      "weighted avg       0.76      0.72      0.67      1001\n",
      "\n"
     ]
    }
   ],
   "source": [
    "# @pepo NB\n",
    "print(\"\\n ===== Predict Naive Bayes\")\n",
    "nb_model = Pipeline([('vect', CountVectorizer()),('tfidf', TfidfTransformer()),('clf', MultinomialNB())])\n",
    "nb_model.fit(X_train, y_train)\n",
    "\n",
    "pred = nb_model.predict(X_test)  # hitung akurasi data test\n",
    "akurasi = np.mean(pred == y_test)\n",
    "\n",
    "print(\"Akurasi MultinomialNB: {}\".format(akurasi))\n",
    "print(accuracy_score(y_test, pred))\n",
    "print(\"\\n ===== Predict Naive Bayes finished\")\n",
    "print('Naive Bayes: ')\n",
    "print(confusion_matrix(y_test, pred))\n",
    "print('Naive Bayes: ')\n",
    "print(classification_report(y_test, pred))"
   ]
  },
  {
   "cell_type": "code",
   "execution_count": 50,
   "metadata": {},
   "outputs": [
    {
     "data": {
      "image/png": "[encoded data removed]",
      "text/plain": [
       "<Figure size 432x288 with 2 Axes>"
      ]
     },
     "metadata": {
      "needs_background": "light"
     },
     "output_type": "display_data"
    }
   ],
   "source": [
    "import seaborn as sns\n",
    "\n",
    "cm = confusion_matrix(y_test, pred)\n",
    "cm = cm.astype('float') / cm.sum(axis=1)[:, np.newaxis]\n",
    "sns.heatmap(cm, annot=True, fmt='.2f')\n",
    "plt.xlabel(\"Predicted Label\")\n",
    "plt.ylabel(\"True Label\")\n",
    "plt.show()"
   ]
  },
  {
   "cell_type": "markdown",
   "metadata": {},
   "source": [
    "7.Buat word vector"
   ]
  },
  {
   "cell_type": "code",
   "execution_count": 51,
   "metadata": {
    "pycharm": {
     "name": "#%%\n"
    }
   },
   "outputs": [],
   "source": [
    "vect = TfidfVectorizer()\n",
    "vector_output = vect.fit_transform(data)\n",
    "\n",
    "x_features = vector_output.toarray()"
   ]
  },
  {
   "cell_type": "markdown",
   "metadata": {},
   "source": [
    "8.Klasifikasi dengan Model Logistics Regression"
   ]
  },
  {
   "cell_type": "code",
   "execution_count": 52,
   "metadata": {
    "pycharm": {
     "name": "#%%\n"
    }
   },
   "outputs": [
    {
     "name": "stdout",
     "output_type": "stream",
     "text": [
      "\n",
      " ===== Predict Logistics Regression\n",
      "[[217  31]\n",
      " [ 51  77]]\n",
      "Logistic Regression: \n",
      "              precision    recall  f1-score   support\n",
      "\n",
      "           0       0.81      0.88      0.84       248\n",
      "           1       0.71      0.60      0.65       128\n",
      "\n",
      "    accuracy                           0.78       376\n",
      "   macro avg       0.76      0.74      0.75       376\n",
      "weighted avg       0.78      0.78      0.78       376\n",
      "\n"
     ]
    }
   ],
   "source": [
    "#@pepo LR\n",
    "print(\"\\n ===== Predict Logistics Regression\")\n",
    "X_train_lr, X_test_lr, y_train_lr, y_test_lr = train_test_split(x_features, label, test_size=0.3, random_state=17)\n",
    "from sklearn.linear_model import LogisticRegression\n",
    "lr_model = LogisticRegression(random_state=17, class_weight='balanced')\n",
    "lr_model.fit(X_train_lr, y_train_lr)\n",
    "y_pred_lr = lr_model.predict(X_test_lr)\n",
    "print(confusion_matrix(y_test_lr, y_pred_lr))\n",
    "print('Logistic Regression: ')\n",
    "print(classification_report(y_test_lr, y_pred_lr))"
   ]
  },
  {
   "cell_type": "code",
   "execution_count": 53,
   "metadata": {},
   "outputs": [
    {
     "data": {
      "image/png": "[encoded data removed]",
      "text/plain": [
       "<Figure size 432x288 with 2 Axes>"
      ]
     },
     "metadata": {
      "needs_background": "light"
     },
     "output_type": "display_data"
    }
   ],
   "source": [
    "cm = confusion_matrix(y_test_lr, y_pred_lr)\n",
    "cm = cm.astype('float') / cm.sum(axis=1)[:, np.newaxis]\n",
    "sns.heatmap(cm, annot=True, fmt='.2f')\n",
    "plt.xlabel(\"Predicted\")\n",
    "plt.ylabel(\"Actual\")\n",
    "plt.show()"
   ]
  },
  {
   "cell_type": "markdown",
   "metadata": {},
   "source": [
    "9.Klasifikasi dengan Model Decision Tree"
   ]
  },
  {
   "cell_type": "code",
   "execution_count": 68,
   "metadata": {
    "pycharm": {
     "name": "#%%\n"
    }
   },
   "outputs": [],
   "source": [
    "#@pepo DT\n",
    "# print(\"\\n ===== Predict Decision Tree\")\n",
    "# X_train_dt, X_test_dt, y_train_dt, y_test_dt = train_test_split(x_features, label, test_size=0.3)\n",
    "# from sklearn.tree import DecisionTreeClassifier\n",
    "# dt_model = DecisionTreeClassifier()\n",
    "# dt_model.fit(X_train_dt, y_train_dt)\n",
    "# y_pred_dt = dt_model.predict(X_test_dt)\n",
    "# print(confusion_matrix(y_test_dt, y_pred_dt))\n",
    "# print('Decision Tree: ')\n",
    "# print(classification_report(y_test_dt, y_pred_dt))"
   ]
  },
  {
   "cell_type": "code",
   "execution_count": 69,
   "metadata": {},
   "outputs": [],
   "source": [
    "# cm = confusion_matrix(y_test_dt, y_pred_dt)\n",
    "# cm = cm.astype('float') / cm.sum(axis=1)[:, np.newaxis]\n",
    "# sns.heatmap(cm, annot=True, fmt='.2f')\n",
    "# plt.xlabel(\"Predicted\")\n",
    "# plt.ylabel(\"Actual\")\n",
    "# plt.show()"
   ]
  },
  {
   "cell_type": "markdown",
   "metadata": {},
   "source": [
    "10.Klasifikasi dengan Model Random Forest"
   ]
  },
  {
   "cell_type": "code",
   "execution_count": 56,
   "metadata": {
    "pycharm": {
     "name": "#%%\n"
    }
   },
   "outputs": [
    {
     "name": "stdout",
     "output_type": "stream",
     "text": [
      "\n",
      " ===== Predict Random Forest\n",
      "[[186  20]\n",
      " [ 55  52]]\n",
      "Random Forest: \n",
      "              precision    recall  f1-score   support\n",
      "\n",
      "           0       0.77      0.90      0.83       206\n",
      "           1       0.72      0.49      0.58       107\n",
      "\n",
      "    accuracy                           0.76       313\n",
      "   macro avg       0.75      0.69      0.71       313\n",
      "weighted avg       0.75      0.76      0.75       313\n",
      "\n"
     ]
    }
   ],
   "source": [
    "#@pepo RF\n",
    "print(\"\\n ===== Predict Random Forest\")\n",
    "x_train_rf, x_test_rf, y_train_rf, y_test_rf = train_test_split(x_features, label)\n",
    "rf = RandomForestClassifier(n_estimators=100, max_depth=None, n_jobs=-1)\n",
    "rf_model = rf.fit(x_train_rf, y_train_rf)\n",
    "y_pred_rf = rf_model.predict(x_test_rf)\n",
    "print(confusion_matrix(y_test_rf, y_pred_rf))\n",
    "print('Random Forest: ')\n",
    "print(classification_report(y_test_rf, y_pred_rf))"
   ]
  },
  {
   "cell_type": "code",
   "execution_count": 57,
   "metadata": {},
   "outputs": [
    {
     "data": {
      "image/png": "[encoded data removed]",
      "text/plain": [
       "<Figure size 432x288 with 2 Axes>"
      ]
     },
     "metadata": {
      "needs_background": "light"
     },
     "output_type": "display_data"
    }
   ],
   "source": [
    "cm = confusion_matrix(y_test_rf, y_pred_rf)\n",
    "cm = cm.astype('float') / cm.sum(axis=1)[:, np.newaxis]\n",
    "sns.heatmap(cm, annot=True, fmt='.2f')\n",
    "plt.xlabel(\"Predicted\")\n",
    "plt.ylabel(\"Actual\")\n",
    "plt.show()"
   ]
  },
  {
   "cell_type": "markdown",
   "metadata": {},
   "source": [
    "11.Klasifikasi dengan Model Support Vector Machine"
   ]
  },
  {
   "cell_type": "code",
   "execution_count": 58,
   "metadata": {
    "pycharm": {
     "name": "#%%\n"
    }
   },
   "outputs": [
    {
     "name": "stdout",
     "output_type": "stream",
     "text": [
      "\n",
      " ===== Predict Support Vector Machine\n",
      "[[602  32]\n",
      " [237 130]]\n",
      "SVM: \n",
      "              precision    recall  f1-score   support\n",
      "\n",
      "           0       0.72      0.95      0.82       634\n",
      "           1       0.80      0.35      0.49       367\n",
      "\n",
      "    accuracy                           0.73      1001\n",
      "   macro avg       0.76      0.65      0.65      1001\n",
      "weighted avg       0.75      0.73      0.70      1001\n",
      "\n"
     ]
    }
   ],
   "source": [
    "#@pepo SVM\n",
    "print(\"\\n ===== Predict Support Vector Machine\")\n",
    "from sklearn.preprocessing import LabelEncoder\n",
    "from sklearn.feature_extraction.text import TfidfVectorizer\n",
    "from sklearn import svm\n",
    "\n",
    "Encoder = LabelEncoder()\n",
    "y_train_svm = Encoder.fit_transform(y_train)\n",
    "y_test_svm = Encoder.fit_transform(y_test)\n",
    "\n",
    "Tfidf_vect = TfidfVectorizer(max_features=5000)\n",
    "Tfidf_vect.fit(data)\n",
    "Train_X_Tfidf = Tfidf_vect.transform(X_train)\n",
    "Test_X_Tfidf = Tfidf_vect.transform(X_test)\n",
    "\n",
    "svm_model = svm.SVC(C=1.0, kernel='linear', degree=3, gamma='auto')\n",
    "svm_model.fit(Train_X_Tfidf, y_train_svm)  # predict the labels on validation dataset\n",
    "y_pred_svm = svm_model.predict(Test_X_Tfidf)  # Use accuracy_score function to get the accuracy\n",
    "# print(\"SVM Accuracy Score -> \", accuracy_score(predictions_SVM, y_test_svm) * 100)\n",
    "print(confusion_matrix(y_test_svm, y_pred_svm))\n",
    "print('SVM: ')\n",
    "print(classification_report(y_test_svm, y_pred_svm))"
   ]
  },
  {
   "cell_type": "code",
   "execution_count": 59,
   "metadata": {},
   "outputs": [
    {
     "data": {
      "image/png": "[encoded data removed]",
      "text/plain": [
       "<Figure size 432x288 with 2 Axes>"
      ]
     },
     "metadata": {
      "needs_background": "light"
     },
     "output_type": "display_data"
    }
   ],
   "source": [
    "cm = confusion_matrix(y_test_svm, y_pred_svm)\n",
    "cm = cm.astype('float') / cm.sum(axis=1)[:, np.newaxis]\n",
    "sns.heatmap(cm, annot=True, fmt='.2f')\n",
    "plt.xlabel(\"Predicted\")\n",
    "plt.ylabel(\"Actual\")\n",
    "plt.show()"
   ]
  },
  {
   "cell_type": "code",
   "execution_count": 70,
   "metadata": {
    "pycharm": {
     "name": "#%%\n"
    }
   },
   "outputs": [
    {
     "name": "stdout",
     "output_type": "stream",
     "text": [
      "\n",
      "=====\n",
      "text: ah mboh ga urusan bodo amat\n",
      "predict NB:  idClass: [1]\n",
      "predict LR:  idClass: [1]\n",
      "predict RF:  idClass: [1]\n",
      "predict SVM:  idClass: [1]\n",
      "\n",
      "=====\n",
      "text: njir keren banget dah\n",
      "predict NB:  idClass: [0]\n",
      "predict LR:  idClass: [0]\n",
      "predict RF:  idClass: [0]\n",
      "predict SVM:  idClass: [0]\n",
      "\n",
      "=====\n",
      "text: brengsek\n",
      "predict NB:  idClass: [1]\n",
      "predict LR:  idClass: [1]\n",
      "predict RF:  idClass: [1]\n",
      "predict SVM:  idClass: [1]\n",
      "\n",
      "=====\n",
      "text: suka lompat ke kali terus seneng\n",
      "predict NB:  idClass: [0]\n",
      "predict LR:  idClass: [0]\n",
      "predict RF:  idClass: [0]\n",
      "predict SVM:  idClass: [0]\n",
      "\n",
      "=====\n",
      "text: bukan urusanku penting\n",
      "predict NB:  idClass: [0]\n",
      "predict LR:  idClass: [0]\n",
      "predict RF:  idClass: [1]\n",
      "predict SVM:  idClass: [0]\n",
      "\n",
      "=====\n",
      "text: aku memang benar selalu\n",
      "predict NB:  idClass: [0]\n",
      "predict LR:  idClass: [1]\n",
      "predict RF:  idClass: [1]\n",
      "predict SVM:  idClass: [1]\n",
      "\n",
      "=====\n",
      "text: brengsek lu\n",
      "predict NB:  idClass: [1]\n",
      "predict LR:  idClass: [1]\n",
      "predict RF:  idClass: [1]\n",
      "predict SVM:  idClass: [1]\n",
      "\n",
      "=====\n",
      "text: suka menderita karena ga bisa\n",
      "predict NB:  idClass: [0]\n",
      "predict LR:  idClass: [0]\n",
      "predict RF:  idClass: [0]\n",
      "predict SVM:  idClass: [0]\n"
     ]
    }
   ],
   "source": [
    "# data_baru = ['ah mboh ga urusan bodo amat', 'njir keren banget dah', 'brengsek', 'suka lompat ke kali terus seneng',\n",
    "#                  'bukan urusanku penting']  # coba prediksi data baru\n",
    "# print(data_baru)\n",
    "# # pred = nb_model.predict(data_baru)\n",
    "# print(\"Hasil prediksi Naive Bayes {}\".format(pred))\n",
    "\n",
    "data_test = ['ah mboh ga urusan bodo amat', 'njir keren banget dah', 'brengsek', 'suka lompat ke kali terus seneng',\n",
    "             'bukan urusanku penting','aku memang benar selalu','brengsek lu','suka menderita karena ga bisa']\n",
    "\n",
    "for test in data_test:\n",
    "    print('\\n=====')\n",
    "    print('text:',test)\n",
    "    print('predict NB: ','idClass:',nb_model.predict([test]))\n",
    "    print('predict LR: ','idClass:',lr_model.predict(vect.transform([test]).toarray()))\n",
    "#     print('predict DT: ','idClass:',dt_model.predict(vect.transform([test]).toarray()))\n",
    "    print('predict RF: ','idClass:',rf_model.predict(vect.transform([test]).toarray()))\n",
    "    print('predict SVM: ','idClass:',svm_model.predict(vect.transform([test]).toarray()))\n",
    "\n",
    "# print(\"\\n ===== Test Predict Classify NB\")\n",
    "# print('predict NB',nb_model.predict(['aku memang benar selalu']))\n",
    "# print('predict NB',nb_model.predict(['brengsek lu']))\n",
    "# print('predict NB',nb_model.predict(['suka menderita karena ga bisa']))\n",
    "\n",
    "# print(\"\\n ===== Test Predict Classify LR\")\n",
    "# print('predict LR',lr_model.predict(vect.transform(['aku memang benar selalu']).toarray()))\n",
    "# print('predict LR',lr_model.predict(vect.transform(['brengsek lu']).toarray()))\n",
    "# print('predict LR',lr_model.predict(vect.transform(['suka menderita karena ga bisa']).toarray()))\n",
    "\n",
    "# print(\"\\n ===== Test Predict Classify DT\")\n",
    "# print('predict DT',dt_model.predict(vect.transform(['aku memang benar selalu']).toarray()))\n",
    "# print('predict DT',dt_model.predict(vect.transform(['brengsek lu']).toarray()))\n",
    "# print('predict DT',dt_model.predict(vect.transform(['suka menderita karena ga bisa']).toarray()))\n",
    "\n",
    "# print(\"\\n ===== Test Predict Classify RF\")\n",
    "# print('predict RF',rf_model.predict(vect.transform(['aku memang benar selalu']).toarray()))\n",
    "# print('predict RF',rf_model.predict(vect.transform(['brengsek lu']).toarray()))\n",
    "# print('predict RF',rf_model.predict(vect.transform(['suka menderita karena ga bisa']).toarray()))\n",
    "\n",
    "# print(\"\\n ===== Test Predict Classify SVM\")\n",
    "# print('predict SVM',svm_model.predict(vect.transform(['aku memang benar selalu']).toarray()))\n",
    "# print('predict SVM',svm_model.predict(vect.transform(['brengsek lu']).toarray()))\n",
    "# print('predict SVM',svm_model.predict(vect.transform(['suka menderita karena ga bisa']).toarray()))"
   ]
  },
  {
   "cell_type": "code",
   "execution_count": 71,
   "metadata": {
    "pycharm": {
     "name": "#%%\n"
    }
   },
   "outputs": [],
   "source": [
    "import pickle"
   ]
  },
  {
   "cell_type": "code",
   "execution_count": 72,
   "metadata": {
    "pycharm": {
     "name": "#%%\n"
    }
   },
   "outputs": [
    {
     "data": {
      "text/plain": [
       "array([0, 1])"
      ]
     },
     "execution_count": 72,
     "metadata": {},
     "output_type": "execute_result"
    }
   ],
   "source": [
    "from sklearn.preprocessing import LabelEncoder\n",
    "le_classname = LabelEncoder()\n",
    "df['idClass'] = le_classname.fit_transform(df['idClass'])\n",
    "df['idClass'].unique()"
   ]
  },
  {
   "cell_type": "code",
   "execution_count": 73,
   "metadata": {
    "pycharm": {
     "name": "#%%\n"
    }
   },
   "outputs": [
    {
     "data": {
      "text/plain": [
       "array([0, 1])"
      ]
     },
     "execution_count": 73,
     "metadata": {},
     "output_type": "execute_result"
    }
   ],
   "source": [
    "le_idClass = LabelEncoder()\n",
    "df['idClass'] = le_idClass.fit_transform(df['idClass'])\n",
    "df['idClass'].unique()"
   ]
  },
  {
   "cell_type": "code",
   "execution_count": 74,
   "metadata": {
    "pycharm": {
     "name": "#%%\n"
    }
   },
   "outputs": [],
   "source": [
    "# data = {'nb_model': nb_model,'lr_model': lr_model,'dt_model': dt_model,'rf_model': rf_model,'svm_model': svm_model,\n",
    "#         'le_classname': le_classname, 'le_idClass': le_idClass}\n",
    "data = {'nb_model': nb_model,'lr_model': lr_model,'rf_model': rf_model,'svm_model': svm_model,\n",
    "        'le_classname': le_classname, 'le_idClass': le_idClass}\n",
    "with open('saved_steps.pkl', 'wb') as file:\n",
    "    pickle.dump(data, file)\n"
   ]
  },
  {
   "cell_type": "code",
   "execution_count": 75,
   "metadata": {
    "pycharm": {
     "name": "#%%\n"
    }
   },
   "outputs": [],
   "source": [
    "with open('saved_steps.pkl', 'rb') as file:\n",
    "    data = pickle.load(file)\n",
    "\n",
    "nb_model_loaded = data['nb_model']\n",
    "lr_model_loaded = data['lr_model']\n",
    "# dt_model_loaded = data['dt_model']\n",
    "rf_model_loaded = data['rf_model']\n",
    "svm_model_loaded = data['svm_model']\n",
    "le_classname = data['le_classname']\n",
    "le_idClass = data['le_idClass']"
   ]
  },
  {
   "cell_type": "code",
   "execution_count": 76,
   "metadata": {
    "pycharm": {
     "name": "#%%\n"
    }
   },
   "outputs": [
    {
     "name": "stdout",
     "output_type": "stream",
     "text": [
      "\n",
      "=====\n",
      "text: ah mboh ga urusan bodo amat\n",
      "predict NB Model Loaded:  idClass: [1]\n",
      "predict LR Model Loaded:  idClass: [1]\n",
      "predict RF Model Loaded:  idClass: [1]\n",
      "predict SVM Model Loaded:  idClass: [1]\n",
      "\n",
      "=====\n",
      "text: njir keren banget dah\n",
      "predict NB Model Loaded:  idClass: [0]\n",
      "predict LR Model Loaded:  idClass: [0]\n",
      "predict RF Model Loaded:  idClass: [0]\n",
      "predict SVM Model Loaded:  idClass: [0]\n",
      "\n",
      "=====\n",
      "text: brengsek\n",
      "predict NB Model Loaded:  idClass: [1]\n",
      "predict LR Model Loaded:  idClass: [1]\n",
      "predict RF Model Loaded:  idClass: [1]\n",
      "predict SVM Model Loaded:  idClass: [1]\n",
      "\n",
      "=====\n",
      "text: suka lompat ke kali terus seneng\n",
      "predict NB Model Loaded:  idClass: [0]\n",
      "predict LR Model Loaded:  idClass: [0]\n",
      "predict RF Model Loaded:  idClass: [0]\n",
      "predict SVM Model Loaded:  idClass: [0]\n",
      "\n",
      "=====\n",
      "text: bukan urusanku penting\n",
      "predict NB Model Loaded:  idClass: [0]\n",
      "predict LR Model Loaded:  idClass: [0]\n",
      "predict RF Model Loaded:  idClass: [1]\n",
      "predict SVM Model Loaded:  idClass: [0]\n",
      "\n",
      "=====\n",
      "text: aku memang benar selalu\n",
      "predict NB Model Loaded:  idClass: [0]\n",
      "predict LR Model Loaded:  idClass: [1]\n",
      "predict RF Model Loaded:  idClass: [1]\n",
      "predict SVM Model Loaded:  idClass: [1]\n",
      "\n",
      "=====\n",
      "text: brengsek lu\n",
      "predict NB Model Loaded:  idClass: [1]\n",
      "predict LR Model Loaded:  idClass: [1]\n",
      "predict RF Model Loaded:  idClass: [1]\n",
      "predict SVM Model Loaded:  idClass: [1]\n",
      "\n",
      "=====\n",
      "text: suka menderita karena ga bisa\n",
      "predict NB Model Loaded:  idClass: [0]\n",
      "predict LR Model Loaded:  idClass: [0]\n",
      "predict RF Model Loaded:  idClass: [0]\n",
      "predict SVM Model Loaded:  idClass: [0]\n"
     ]
    }
   ],
   "source": [
    "for test in data_test:\n",
    "    print('\\n=====')\n",
    "    print('text:',test)\n",
    "    print('predict NB Model Loaded: ','idClass:',nb_model_loaded.predict([test]))\n",
    "    print('predict LR Model Loaded: ','idClass:',lr_model_loaded.predict(vect.transform([test]).toarray()))\n",
    "#     print('predict DT Model Loaded: ','idClass:',dt_model_loaded.predict(vect.transform([test]).toarray()))\n",
    "    print('predict RF Model Loaded: ','idClass:',rf_model_loaded.predict(vect.transform([test]).toarray()))\n",
    "    print('predict SVM Model Loaded: ','idClass:',svm_model_loaded.predict(vect.transform([test]).toarray()))"
   ]
  },
  {
   "cell_type": "code",
   "execution_count": 67,
   "metadata": {
    "pycharm": {
     "name": "#%%\n"
    }
   },
   "outputs": [],
   "source": [
    "# df_timeseries=df.groupby(['classname']).groups.keys()\n"
   ]
  },
  {
   "cell_type": "code",
   "execution_count": 37,
   "metadata": {
    "pycharm": {
     "name": "#%%\n"
    }
   },
   "outputs": [],
   "source": [
    "# df_timeseries"
   ]
  },
  {
   "cell_type": "code",
   "execution_count": null,
   "metadata": {
    "pycharm": {
     "name": "#%%\n"
    }
   },
   "outputs": [],
   "source": []
  },
  {
   "cell_type": "code",
   "execution_count": null,
   "metadata": {
    "pycharm": {
     "name": "#%%\n"
    }
   },
   "outputs": [],
   "source": [
    "\n"
   ]
  }
 ],
 "metadata": {
  "kernelspec": {
   "display_name": "Python 3",
   "language": "python",
   "name": "python3"
  },
  "language_info": {
   "codemirror_mode": {
    "name": "ipython",
    "version": 3
   },
   "file_extension": ".py",
   "mimetype": "text/x-python",
   "name": "python",
   "nbconvert_exporter": "python",
   "pygments_lexer": "ipython3",
   "version": "3.9.4"
  }
 },
 "nbformat": 4,
 "nbformat_minor": 1
}